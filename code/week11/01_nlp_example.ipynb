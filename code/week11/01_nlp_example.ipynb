{
 "cells": [
  {
   "cell_type": "markdown",
   "id": "6ed382cc",
   "metadata": {},
   "source": [
    "# NLP Example"
   ]
  },
  {
   "cell_type": "markdown",
   "id": "01fa546c",
   "metadata": {},
   "source": [
    "__Example for Causal Inference Workshop__\\\n",
    "Anna Papp (ap3907@columbia.edu)"
   ]
  },
  {
   "cell_type": "markdown",
   "id": "581c59ee",
   "metadata": {},
   "source": [
    "## Part 1: Preprocessing"
   ]
  },
  {
   "cell_type": "markdown",
   "id": "dab3e027",
   "metadata": {},
   "source": [
    "Step 1: Download packages and configure stop words."
   ]
  },
  {
   "cell_type": "code",
   "execution_count": 1,
   "id": "8954f79f",
   "metadata": {},
   "outputs": [
    {
     "name": "stderr",
     "output_type": "stream",
     "text": [
      "[nltk_data] Downloading package stopwords to\n",
      "[nltk_data]     /Users/annapapp/nltk_data...\n",
      "[nltk_data]   Package stopwords is already up-to-date!\n",
      "[nltk_data] Downloading package punkt to /Users/annapapp/nltk_data...\n",
      "[nltk_data]   Package punkt is already up-to-date!\n",
      "[nltk_data] Downloading package wordnet to\n",
      "[nltk_data]     /Users/annapapp/nltk_data...\n",
      "[nltk_data]   Package wordnet is already up-to-date!\n"
     ]
    }
   ],
   "source": [
    "# NLTK packages and functions \n",
    "import nltk \n",
    "import nltk.data\n",
    "from nltk.corpus import stopwords\n",
    "from nltk.stem import WordNetLemmatizer\n",
    "wordnet_lemmatizer = WordNetLemmatizer()\n",
    "from nltk import tokenize \n",
    "\n",
    "# Gensim \n",
    "from gensim.utils import simple_preprocess\n",
    "\n",
    "# other \n",
    "import string\n",
    "import warnings\n",
    "import os\n",
    "import pandas as pd\n",
    "import numpy as np\n",
    "\n",
    "# download nltk stuff needed, only have to do once \n",
    "nltk.download('stopwords') \n",
    "nltk.download('punkt')\n",
    "nltk.download('wordnet')\n",
    "\n",
    "# configure stop words\n",
    "stop_words = stopwords.words('english')\n",
    "\n",
    "# add to stop words - depending on your text, you may want to add certain stop words \n",
    "stop_words = stop_words + ['quarter', 'chevron', 'year', 'project', 'question', 'president', 'chief', 'operating', 'officer', 'analyst', 'next', 'vice', 'president', 'operator', \n",
    "                          'think', 'thanks', 'earnings', 'please', 'pierre', 'u', 'thank', 'yarrington', 'crowe', 'irene', 'stephen', 'patricia', 'kirkland', 'nikki', 'executive', 'paul', 'breber', 'watson', \n",
    "                          'gary', 'luquette', 'going', 'reilly', 'david', 'george', 'jim', 'aleveras', 'sankey', 'john', 'chairman', 'q', 'a', 'mark', 'steve', \n",
    "                          'neil', 'mcmahon', 'gilman', 'melitas', 'cheng', 'hi', 'ike', 'gustav', '', 'matt']\n",
    "warnings.filterwarnings('ignore')\n"
   ]
  },
  {
   "cell_type": "markdown",
   "id": "afc9c5f8",
   "metadata": {},
   "source": [
    "Step 2: Define functions"
   ]
  },
  {
   "cell_type": "code",
   "execution_count": 2,
   "id": "f9e6560e",
   "metadata": {},
   "outputs": [],
   "source": [
    "# sentence to word function \n",
    "def sent_to_words(sentences):\n",
    "    for sentence in sentences:\n",
    "        yield(simple_preprocess(str(sentence), deacc=True)) \n",
    "\n",
    "# remove stop words \n",
    "def remove_stopwords(texts):\n",
    "    return [[word for word in simple_preprocess(str(doc)) if word not in stop_words] for doc in texts]\n",
    "\n",
    "# lemmatize functions \n",
    "def lemmatize(sentences):\n",
    "    done = []\n",
    "    for sentence in sentences: \n",
    "       done.append([wordnet_lemmatizer.lemmatize(wd) for wd in sentence])\n",
    "    return done\n",
    "\n",
    "# calculate BOW given all words and a sentence \n",
    "def calculateBOW(wordset,l_doc):\n",
    "  tf_diz = dict.fromkeys(wordset,0)\n",
    "  for word in l_doc:\n",
    "      tf_diz[word]=l_doc.count(word)\n",
    "  return tf_diz"
   ]
  },
  {
   "cell_type": "markdown",
   "id": "a541e663",
   "metadata": {},
   "source": [
    "Step 3: Open a file and read first 500 characters, replace line breaks with spaces (line breaks not meaningful here)."
   ]
  },
  {
   "cell_type": "code",
   "execution_count": 3,
   "id": "9a0cacb8",
   "metadata": {},
   "outputs": [
    {
     "name": "stdout",
     "output_type": "stream",
     "text": [
      "Earnings file analyzed: 06Q1.txt \n",
      "\n",
      "\n",
      "First 500 characters of text:\n",
      "\n",
      " Operator: Good morning my name is Matt and I will be your conference facilitator today. Welcome\n",
      "to Chevron First Quarter 2006 Earnings Conference Call. At this time, all participants are in a listenonly mode. After the speakers’ remarks, there will be a question and answer session and\n",
      "instructions will be given at that time. [Operator Instructions]. As a reminder, this conference is\n",
      "being recorded. I would now turn the conference over to Vice President and Chief Financial Officer,\n",
      "Mr. Steve Crow \n",
      "\n",
      "\n",
      "First 500 characters of text:\n",
      "\n",
      " Operator: Good morning my name is Matt and I will be your conference facilitator today. Welcome to Chevron First Quarter 2006 Earnings Conference Call. At this time, all participants are in a listenonly mode. After the speakers’ remarks, there will be a question and answer session and instructions will be given at that time. [Operator Instructions]. As a reminder, this conference is being recorded. I would now turn the conference over to Vice President and Chief Financial Officer, Mr. Steve Crow \n",
      "\n",
      "\n"
     ]
    }
   ],
   "source": [
    "# list of earnings documents in folder \n",
    "earnings = sorted(os.listdir('data/txt/chevron/'))\n",
    "\n",
    "# take the first one \n",
    "firstEarnings = earnings[0]\n",
    "print('Earnings file analyzed:', firstEarnings, '\\n\\n')\n",
    "\n",
    "# now read in file \n",
    "file = open(f'data/txt/chevron/{firstEarnings}')\n",
    "data = file.read()\n",
    "\n",
    "# print first 500 characters \n",
    "print('First 500 characters of text:\\n\\n', data[0:500], '\\n\\n')\n",
    "\n",
    "# replace line breaks with spaces, since line breaks not meaningful in this data \n",
    "data = data.replace(\"\\n\", \" \")\n",
    "\n",
    "# print first 500 characters \n",
    "print('First 500 characters of text:\\n\\n', data[0:500], '\\n\\n')"
   ]
  },
  {
   "cell_type": "markdown",
   "id": "c8d2efc0",
   "metadata": {},
   "source": [
    "Step 4: Turn to sentences and tokenize "
   ]
  },
  {
   "cell_type": "code",
   "execution_count": 4,
   "id": "ab20f7b4",
   "metadata": {},
   "outputs": [
    {
     "name": "stdout",
     "output_type": "stream",
     "text": [
      "First 6 sentences of text:\n",
      "\n",
      " [['operator', 'good', 'morning', 'my', 'name', 'is', 'matt', 'and', 'will', 'be', 'your', 'conference', 'facilitator', 'today'], ['welcome', 'to', 'chevron', 'first', 'quarter', 'earnings', 'conference', 'call'], ['at', 'this', 'time', 'all', 'participants', 'are', 'in', 'listenonly', 'mode'], ['after', 'the', 'speakers', 'remarks', 'there', 'will', 'be', 'question', 'and', 'answer', 'session', 'and', 'instructions', 'will', 'be', 'given', 'at', 'that', 'time'], ['operator', 'instructions'], ['as', 'reminder', 'this', 'conference', 'is', 'being', 'recorded']] \n",
      "\n",
      "\n"
     ]
    }
   ],
   "source": [
    "# tokenize data to create sentences and run simple preprocess \n",
    "data = tokenize.sent_tokenize(data)\n",
    "data_words = list(sent_to_words(data))\n",
    "\n",
    "# print first 6 sentences of text \n",
    "print('First 6 sentences of text:\\n\\n', data_words[0:6], '\\n\\n')"
   ]
  },
  {
   "cell_type": "markdown",
   "id": "6fabefbd",
   "metadata": {},
   "source": [
    "Step 5: Remove stopwords (defined above)."
   ]
  },
  {
   "cell_type": "code",
   "execution_count": 5,
   "id": "e8f25d5d",
   "metadata": {},
   "outputs": [
    {
     "name": "stdout",
     "output_type": "stream",
     "text": [
      "First 6 sentences of text:\n",
      "\n",
      " [['good', 'morning', 'name', 'conference', 'facilitator', 'today'], ['welcome', 'first', 'conference', 'call'], ['time', 'participants', 'listenonly', 'mode'], ['speakers', 'remarks', 'answer', 'session', 'instructions', 'given', 'time'], ['instructions'], ['reminder', 'conference', 'recorded']] \n",
      "\n",
      "\n"
     ]
    }
   ],
   "source": [
    "# remove stopwords \n",
    "data_words_nostop = remove_stopwords(data_words)\n",
    "\n",
    "# print first 6 sentences of text \n",
    "print('First 6 sentences of text:\\n\\n', data_words_nostop[0:6], '\\n\\n')"
   ]
  },
  {
   "cell_type": "markdown",
   "id": "3de59cb4",
   "metadata": {},
   "source": [
    "Step 6: Lemmatize "
   ]
  },
  {
   "cell_type": "code",
   "execution_count": 6,
   "id": "9a445d44",
   "metadata": {
    "scrolled": true
   },
   "outputs": [
    {
     "name": "stdout",
     "output_type": "stream",
     "text": [
      "First 6 sentences of text:\n",
      "\n",
      " [['good', 'morning', 'name', 'conference', 'facilitator', 'today'], ['welcome', 'first', 'conference', 'call'], ['time', 'participant', 'listenonly', 'mode'], ['speaker', 'remark', 'answer', 'session', 'instruction', 'given', 'time'], ['instruction'], ['reminder', 'conference', 'recorded']] \n",
      "\n",
      "\n"
     ]
    }
   ],
   "source": [
    "# lemmatization \n",
    "data_lemmatized = lemmatize(data_words_nostop)\n",
    "\n",
    "# print first 6 sentences of text \n",
    "print('First 6 sentences of text:\\n\\n', data_lemmatized[0:6], '\\n\\n')"
   ]
  },
  {
   "cell_type": "markdown",
   "id": "23cf41ad",
   "metadata": {},
   "source": [
    "Step 7: Bag-of-Words"
   ]
  },
  {
   "cell_type": "code",
   "execution_count": 7,
   "id": "410796c3",
   "metadata": {},
   "outputs": [
    {
     "name": "stdout",
     "output_type": "stream",
     "text": [
      "Total words: 3177 \n",
      "\n",
      "Unique words: 1150 \n",
      "\n"
     ]
    }
   ],
   "source": [
    "# flatten\n",
    "data_flat = [item for sublist in data_lemmatized for item in sublist]\n",
    "print('Total words:', len(data_flat), '\\n')\n",
    "\n",
    "# now find unique words \n",
    "data_flat_unique = list(set(data_flat))\n",
    "print('Unique words:', len(data_flat_unique), '\\n')\n"
   ]
  },
  {
   "cell_type": "code",
   "execution_count": 16,
   "id": "7456ad21",
   "metadata": {},
   "outputs": [
    {
     "name": "stdout",
     "output_type": "stream",
     "text": [
      "Bag-of-Words Representation of Sentence 1 (Only Beginning): [('experienced', 0), ('excluding', 0), ('occur', 0), ('thinking', 0), ('let', 0), ('announce', 0), ('happen', 0), ('expense', 0), ('rising', 0), ('absence', 0), ('excellent', 0), ('prepared', 0), ('bear', 0), ('agency', 0), ('owns', 0), ('turn', 0), ('belt', 0), ('lower', 0), ('understanding', 0), ('mean', 0), ('quickly', 0), ('memorandum', 0), ('call', 0), ('place', 0), ('statement', 0)]\n"
     ]
    }
   ],
   "source": [
    "# now calculate bag-of-words representation for the first sentence in the data \n",
    "bow1 = calculateBOW(data_flat_unique, data_lemmatized[0])\n",
    "print('Bag-of-Words Representation of Sentence 1 (Only Beginning):', list(bow1.items())[:25])"
   ]
  },
  {
   "cell_type": "markdown",
   "id": "71135810",
   "metadata": {},
   "source": [
    "## Part 2: LDA Topic Analysis"
   ]
  },
  {
   "cell_type": "markdown",
   "id": "297a78f5",
   "metadata": {},
   "source": [
    "Step 1: Download additional packages (Gensim)"
   ]
  },
  {
   "cell_type": "code",
   "execution_count": 17,
   "id": "715333fe",
   "metadata": {},
   "outputs": [],
   "source": [
    "# Gensim \n",
    "import gensim\n",
    "from gensim.models import LdaModel, LdaMulticore, CoherenceModel\n",
    "import gensim.downloader as api\n",
    "import gensim.corpora as corpora"
   ]
  },
  {
   "cell_type": "markdown",
   "id": "25a28809",
   "metadata": {},
   "source": [
    "Step 2: Define additional functions "
   ]
  },
  {
   "cell_type": "code",
   "execution_count": 18,
   "id": "2782f718",
   "metadata": {},
   "outputs": [],
   "source": [
    "# formatting topics \n",
    "def format_topics(ldamodel, corpus, texts):\n",
    "    doc_topics_df = pd.DataFrame()\n",
    "    # main topic in each document\n",
    "    for i, row in enumerate(ldamodel[corpus]):\n",
    "        row = sorted(row[0], key=lambda x: (x[1]), reverse=True)\n",
    "        # Get the Dominant topic, Perc Contribution and Keywords for each document\n",
    "        for j, (topic_num, prop_topic) in enumerate(row):\n",
    "            if j == 0:  # => dominant topic\n",
    "                wp = ldamodel.show_topic(topic_num)\n",
    "                topic_keywords = \", \".join([word for word, prop in wp])\n",
    "                doc_topics_df = doc_topics_df.append(pd.Series([int(topic_num), round(prop_topic,4), topic_keywords]), ignore_index=True)\n",
    "            else:\n",
    "                break\n",
    "    doc_topics_df.columns = ['Dominant_Topic', 'Perc_Contribution', 'Topic_Keywords']\n",
    "\n",
    "    # Add original text to the end of the output\n",
    "    contents = pd.Series(texts)\n",
    "    doc_topics_df = pd.concat([doc_topics_df], axis=1)\n",
    "    return(doc_topics_df)"
   ]
  },
  {
   "cell_type": "markdown",
   "id": "454e6952",
   "metadata": {},
   "source": [
    "Step 3: Read in all earnings documents"
   ]
  },
  {
   "cell_type": "code",
   "execution_count": 19,
   "id": "bb428bf8",
   "metadata": {},
   "outputs": [],
   "source": [
    "filedirectory = f'data/txt/chevron'\n",
    "dataset = []\n",
    "for filename in sorted(os.listdir(filedirectory)):\n",
    "    # read in text as string\n",
    "    file = open(f'{filedirectory}/{filename}')\n",
    "    data = file.read()\n",
    "\n",
    "    # replace line breaks with spaces, since line breaks not meaningful in this data \n",
    "    data = data.replace(\"\\n\", \" \")\n",
    "\n",
    "    # tokenize data to create sentences and run simple preprocess \n",
    "    data = tokenize.sent_tokenize(data)\n",
    "    data_words = list(sent_to_words(data))\n",
    "\n",
    "    # remove stopwords \n",
    "    data_words_nostop = remove_stopwords(data_words)\n",
    "\n",
    "    # lemmatization \n",
    "    data_lemmatized = lemmatize(data_words_nostop)\n",
    "    \n",
    "    # flatten back because here we are analyzing all documents together \n",
    "    data_flat = [item for sublist in data_lemmatized for item in sublist]\n",
    "    \n",
    "    # append to dataset \n",
    "    dataset.append(data_flat)\n",
    "    "
   ]
  },
  {
   "cell_type": "markdown",
   "id": "10483a36",
   "metadata": {},
   "source": [
    "Step 3: create dictionary and run LDA model"
   ]
  },
  {
   "cell_type": "code",
   "execution_count": 20,
   "id": "6388c95e",
   "metadata": {},
   "outputs": [],
   "source": [
    "# create dictionary \n",
    "id2word = corpora.Dictionary(dataset)\n",
    "\n",
    "# corpus \n",
    "texts = dataset\n",
    "\n",
    "# term document frequency \n",
    "corpus = [id2word.doc2bow(text) for text in texts]\n",
    "\n",
    "# build LDA model \n",
    "lda_model = gensim.models.ldamodel.LdaModel(corpus=corpus,\n",
    "                                           id2word=id2word,\n",
    "                                           num_topics=10, \n",
    "                                           random_state=100,\n",
    "                                           update_every=1,\n",
    "                                           chunksize=100,\n",
    "                                           passes=10,\n",
    "                                           alpha='auto',\n",
    "                                           per_word_topics=True)\n",
    "\n",
    "# print topics \n",
    "with open(f'output/chevron_topic_file.txt', 'w') as topic_file:\n",
    "    topics=lda_model.print_topics()\n",
    "    topic_file.write('\\n'.join('%s %s' %topic for topic in topics))\n"
   ]
  },
  {
   "cell_type": "markdown",
   "id": "0c88bfef",
   "metadata": {},
   "source": [
    "Step 4: Find dominant topic in each earnings release "
   ]
  },
  {
   "cell_type": "code",
   "execution_count": 21,
   "id": "e884dbfc",
   "metadata": {},
   "outputs": [],
   "source": [
    "# format outputs \n",
    "df_topic_keywords = format_topics(ldamodel=lda_model, corpus=corpus, texts=dataset)\n",
    "df_dominant_topic = df_topic_keywords.reset_index()\n",
    "df_dominant_topic.columns = ['Document_No', 'Dominant_Topic', 'Topic_Perc_Contrib', 'Keywords']\n",
    "\n",
    "# save output \n",
    "df_dominant_topic.to_csv(f'output/chevron_dominant_topics.csv')"
   ]
  },
  {
   "cell_type": "markdown",
   "id": "dc241144",
   "metadata": {},
   "source": [
    "## Part 3: Sentiment Analysis"
   ]
  },
  {
   "cell_type": "markdown",
   "id": "75d529bd",
   "metadata": {},
   "source": [
    "Part 1: Load additional packages and download Vader dictionary "
   ]
  },
  {
   "cell_type": "code",
   "execution_count": 22,
   "id": "bc31b961",
   "metadata": {},
   "outputs": [
    {
     "name": "stderr",
     "output_type": "stream",
     "text": [
      "[nltk_data] Downloading package vader_lexicon to\n",
      "[nltk_data]     /Users/annapapp/nltk_data...\n",
      "[nltk_data]   Package vader_lexicon is already up-to-date!\n"
     ]
    }
   ],
   "source": [
    "# NLTK Vader sentiment analysis \n",
    "from nltk.sentiment.vader import SentimentIntensityAnalyzer\n",
    "\n",
    "# plotting \n",
    "import matplotlib.pyplot as plt\n",
    "\n",
    "# download vader lexicon (only have to do once)\n",
    "nltk.download('vader_lexicon')\n",
    "\n",
    "# create sentiment analyzer \n",
    "sentiment_analyzer = SentimentIntensityAnalyzer()"
   ]
  },
  {
   "cell_type": "markdown",
   "id": "64cf0091",
   "metadata": {},
   "source": [
    "Part 2: define keywords, loop through all files, and apply sentiment analysis function to each sentence that contains a keyword"
   ]
  },
  {
   "cell_type": "code",
   "execution_count": 23,
   "id": "0d92f419",
   "metadata": {},
   "outputs": [],
   "source": [
    "# keywords - we will filter sentences that contain these words \n",
    "keywords = ['climate', 'carbon', 'renewable', 'greenhouse', 'biofeed']\n",
    "\n",
    "# loop through all files and filter for sentences that contain keywords \n",
    "filedirectory = f'data/txt/chevron'\n",
    "count = []\n",
    "positive = []\n",
    "neutral = []\n",
    "negative = []\n",
    "compound = []\n",
    "for filename in sorted(os.listdir(filedirectory)):\n",
    "\n",
    "    # read in text as string\n",
    "    file = open(f'{filedirectory}/{filename}')\n",
    "    data = file.read()\n",
    "\n",
    "    # replace line breaks with spaces, since line breaks not meaningful in this data \n",
    "    data = data.replace(\"\\n\", \" \")\n",
    "\n",
    "    # tokenize data to create sentences \n",
    "    data = tokenize.sent_tokenize(data)\n",
    "\n",
    "    # filter sentences and conduct sentiment analysis\n",
    "    scores = []\n",
    "    for sentence in data: \n",
    "        if any(keyword in sentence for keyword in keywords):\n",
    "            ss = sentiment_analyzer.polarity_scores(sentence)\n",
    "            scores.append(ss)\n",
    "\n",
    "    # save results to a dataframe \n",
    "    results = pd.DataFrame(scores)\n",
    "    count.append(results.size/4)\n",
    "    if results.empty: \n",
    "        negative.append(float(\"nan\"))\n",
    "        neutral.append(float(\"nan\"))\n",
    "        positive.append(float(\"nan\"))\n",
    "        compound.append(float(\"nan\"))\n",
    "    if not results.empty:\n",
    "        negative.append(results.mean(axis=0)[0])\n",
    "        neutral.append(results.mean(axis=0)[1])\n",
    "        positive.append(results.mean(axis=0)[2])\n",
    "        compound.append(results.mean(axis=0)[3])\n",
    "\n",
    "# save final data \n",
    "quarters = pd.DataFrame(sorted(os.listdir(filedirectory)))\n",
    "final = pd.concat([pd.DataFrame(quarters), pd.DataFrame(count),pd.DataFrame(compound), pd.DataFrame(negative), pd.DataFrame(neutral), pd.DataFrame(positive)], axis=1)\n",
    "final =  final.set_axis(['quarter', 'count','compound', 'negative', 'neutral', 'positive'], axis=1, inplace=False)\n",
    "final['quarter'] = final['quarter'].str[0:4]\n"
   ]
  },
  {
   "cell_type": "markdown",
   "id": "e11744e9",
   "metadata": {},
   "source": [
    "Part 3: Make some plots of the results"
   ]
  },
  {
   "cell_type": "code",
   "execution_count": 24,
   "id": "2a098013",
   "metadata": {},
   "outputs": [
    {
     "data": {
      "image/png": "[encoded data removed]",
      "text/plain": [
       "<Figure size 1080x360 with 1 Axes>"
      ]
     },
     "metadata": {
      "needs_background": "light"
     },
     "output_type": "display_data"
    }
   ],
   "source": [
    "# plot count of sentences with keywords \n",
    "plt.figure(figsize=(15, 5))  # Set the figure size\n",
    "plt.plot(final['quarter'],final['count'], marker='o')  # Plot line graph with markers\n",
    "plt.title('Quarterly Count of Sentences with Keywords')  # Add a title\n",
    "plt.xlabel('Quarter')  # Label the x-axis\n",
    "plt.ylabel('Count')  # Label the y-axis\n",
    "plt.grid(False)  # Optional: add a grid for easier readability\n",
    "plt.xticks(rotation=90)  # Rotate x-axis labels by 90 degrees\n",
    "plt.show()  # Display the plot"
   ]
  },
  {
   "cell_type": "code",
   "execution_count": 25,
   "id": "51993bd1",
   "metadata": {},
   "outputs": [
    {
     "data": {
      "image/png": "[encoded data removed]",
      "text/plain": [
       "<Figure size 1080x360 with 1 Axes>"
      ]
     },
     "metadata": {
      "needs_background": "light"
     },
     "output_type": "display_data"
    }
   ],
   "source": [
    "# plot average sentiment \n",
    "plt.figure(figsize=(15, 5))  # Set the figure size\n",
    "plt.plot(final['quarter'],final['compound'], marker='o')  # Plot line graph with markers\n",
    "plt.title('Quarterly Count of Sentences with Keywords')  # Add a title\n",
    "plt.xlabel('Quarter')  # Label the x-axis\n",
    "plt.ylabel('Sentiment')  # Label the y-axis\n",
    "plt.grid(False)  # Optional: add a grid for easier readability\n",
    "plt.xticks(rotation=90)  # Rotate x-axis labels by 90 degrees\n",
    "plt.show()  # Display the plot"
   ]
  },
  {
   "cell_type": "code",
   "execution_count": null,
   "id": "19b6aaa6",
   "metadata": {},
   "outputs": [],
   "source": []
  }
 ],
 "metadata": {
  "kernelspec": {
   "display_name": "Python 3",
   "language": "python",
   "name": "python3"
  },
  "language_info": {
   "codemirror_mode": {
    "name": "ipython",
    "version": 3
   },
   "file_extension": ".py",
   "mimetype": "text/x-python",
   "name": "python",
   "nbconvert_exporter": "python",
   "pygments_lexer": "ipython3",
   "version": "3.9.17"
  }
 },
 "nbformat": 4,
 "nbformat_minor": 5
}
